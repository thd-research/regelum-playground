{
 "cells": [
  {
   "cell_type": "code",
   "execution_count": 1,
   "metadata": {},
   "outputs": [],
   "source": [
    "import numpy as np\n",
    "import matplotlib.pyplot as plt"
   ]
  },
  {
   "cell_type": "code",
   "execution_count": 2,
   "metadata": {},
   "outputs": [],
   "source": [
    "def trajectory_gen(x_initial=-3, y_initial=-3):\n",
    "    x_ref = np.linspace(0, 10, 100)\n",
    "    y_ref = 2*np.sin(2 * np.pi * x_ref * 0.15)\n",
    "\n",
    "    # theta_ref = np.arctan2(np.diff(x_ref), np.diff(y_ref)) # dependencies: x_ref[-1], x_ref[-2], y_ref[-1], y_ref[-2]\n",
    "    theta_ref = np.arctan2(np.diff(y_ref), np.diff(x_ref)) # dependencies: x_ref[-1], x_ref[-2], y_ref[-1], y_ref[-2]\n",
    "    theta_ref = np.append(theta_ref, theta_ref[-1])\n",
    "\n",
    "    x_ref = x_ref + (x_initial - x_ref[0])\n",
    "    y_ref = y_ref + (y_initial - y_ref[0])\n",
    "\n",
    "    return x_ref, y_ref, theta_ref\n",
    "\n",
    "def linear_trajectory_gen(initial_state, goal_state):\n",
    "    x_ref = np.linspace(initial_state[0], goal_state[0], 100)\n",
    "    y_ref = np.linspace(initial_state[1], goal_state[1], 100)\n",
    "\n",
    "    # theta_ref = np.arctan2(np.diff(x_ref), np.diff(y_ref)) # dependencies: x_ref[-1], x_ref[-2], y_ref[-1], y_ref[-2]\n",
    "    theta_ref = np.arctan2(np.diff(y_ref), np.diff(x_ref)) # dependencies: x_ref[-1], x_ref[-2], y_ref[-1], y_ref[-2]\n",
    "    theta_ref = np.append(theta_ref, goal_state[2])\n",
    "\n",
    "    x_ref = x_ref + (initial_state[0] - x_ref[0])\n",
    "    y_ref = y_ref + (initial_state[1] - y_ref[0])\n",
    "\n",
    "    return x_ref, y_ref, theta_ref"
   ]
  },
  {
   "cell_type": "code",
   "execution_count": 3,
   "metadata": {},
   "outputs": [
    {
     "ename": "IndexError",
     "evalue": "list index out of range",
     "output_type": "error",
     "traceback": [
      "\u001b[0;31m---------------------------------------------------------------------------\u001b[0m",
      "\u001b[0;31mIndexError\u001b[0m                                Traceback (most recent call last)",
      "Cell \u001b[0;32mIn[3], line 1\u001b[0m\n\u001b[0;32m----> 1\u001b[0m x_ref, y_ref, theta_ref \u001b[38;5;241m=\u001b[39m \u001b[43mlinear_trajectory_gen\u001b[49m\u001b[43m(\u001b[49m\u001b[43m[\u001b[49m\u001b[38;5;241;43m-\u001b[39;49m\u001b[38;5;241;43m5\u001b[39;49m\u001b[43m,\u001b[49m\u001b[43m \u001b[49m\u001b[38;5;241;43m-\u001b[39;49m\u001b[38;5;241;43m1\u001b[39;49m\u001b[43m]\u001b[49m\u001b[43m,\u001b[49m\u001b[43m \u001b[49m\u001b[43m[\u001b[49m\u001b[38;5;241;43m20\u001b[39;49m\u001b[43m,\u001b[49m\u001b[43m \u001b[49m\u001b[38;5;241;43m20\u001b[39;49m\u001b[43m]\u001b[49m\u001b[43m)\u001b[49m\n\u001b[1;32m      3\u001b[0m plt\u001b[38;5;241m.\u001b[39mplot(x_ref, y_ref, \u001b[38;5;124m\"\u001b[39m\u001b[38;5;124m.-\u001b[39m\u001b[38;5;124m\"\u001b[39m)\n\u001b[1;32m      5\u001b[0m \u001b[38;5;28;01mfor\u001b[39;00m i, (x, y) \u001b[38;5;129;01min\u001b[39;00m \u001b[38;5;28menumerate\u001b[39m(\u001b[38;5;28mzip\u001b[39m(x_ref, y_ref)):\n",
      "Cell \u001b[0;32mIn[2], line 20\u001b[0m, in \u001b[0;36mlinear_trajectory_gen\u001b[0;34m(initial_state, goal_state)\u001b[0m\n\u001b[1;32m     18\u001b[0m \u001b[38;5;66;03m# theta_ref = np.arctan2(np.diff(x_ref), np.diff(y_ref)) # dependencies: x_ref[-1], x_ref[-2], y_ref[-1], y_ref[-2]\u001b[39;00m\n\u001b[1;32m     19\u001b[0m theta_ref \u001b[38;5;241m=\u001b[39m np\u001b[38;5;241m.\u001b[39marctan2(np\u001b[38;5;241m.\u001b[39mdiff(y_ref), np\u001b[38;5;241m.\u001b[39mdiff(x_ref)) \u001b[38;5;66;03m# dependencies: x_ref[-1], x_ref[-2], y_ref[-1], y_ref[-2]\u001b[39;00m\n\u001b[0;32m---> 20\u001b[0m theta_ref \u001b[38;5;241m=\u001b[39m np\u001b[38;5;241m.\u001b[39mappend(theta_ref, \u001b[43mgoal_state\u001b[49m\u001b[43m[\u001b[49m\u001b[38;5;241;43m2\u001b[39;49m\u001b[43m]\u001b[49m)\n\u001b[1;32m     22\u001b[0m x_ref \u001b[38;5;241m=\u001b[39m x_ref \u001b[38;5;241m+\u001b[39m (initial_state[\u001b[38;5;241m0\u001b[39m] \u001b[38;5;241m-\u001b[39m x_ref[\u001b[38;5;241m0\u001b[39m])\n\u001b[1;32m     23\u001b[0m y_ref \u001b[38;5;241m=\u001b[39m y_ref \u001b[38;5;241m+\u001b[39m (initial_state[\u001b[38;5;241m1\u001b[39m] \u001b[38;5;241m-\u001b[39m y_ref[\u001b[38;5;241m0\u001b[39m])\n",
      "\u001b[0;31mIndexError\u001b[0m: list index out of range"
     ]
    }
   ],
   "source": [
    "x_ref, y_ref, theta_ref = linear_trajectory_gen([-5, -1], [20, 20])\n",
    "\n",
    "plt.plot(x_ref, y_ref, \".-\")\n",
    "\n",
    "for i, (x, y) in enumerate(zip(x_ref, y_ref)):\n",
    "    if i >= len(theta_ref):\n",
    "        break\n",
    "\n",
    "    plt.arrow(x, y, np.cos(theta_ref[i]), np.sin(theta_ref[i]), width=0.01)\n"
   ]
  }
 ],
 "metadata": {
  "kernelspec": {
   "display_name": "Python 3",
   "language": "python",
   "name": "python3"
  },
  "language_info": {
   "codemirror_mode": {
    "name": "ipython",
    "version": 3
   },
   "file_extension": ".py",
   "mimetype": "text/x-python",
   "name": "python",
   "nbconvert_exporter": "python",
   "pygments_lexer": "ipython3",
   "version": "3.10.14"
  }
 },
 "nbformat": 4,
 "nbformat_minor": 2
}
