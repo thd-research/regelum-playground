{
 "cells": [
  {
   "cell_type": "code",
   "execution_count": 2,
   "metadata": {},
   "outputs": [],
   "source": [
    "import numpy as np"
   ]
  },
  {
   "cell_type": "code",
   "execution_count": 25,
   "metadata": {},
   "outputs": [],
   "source": [
    "w_array_text = \"\"\"weight 0: [ 146.888  257.333  120.706 -273.091  597.232   77.819 -430.544   66.271\n",
    "  214.027 -211.351  136.076]\n",
    "weight 1: [ 151.84   261.561  152.338 -272.295  591.847   78.536 -436.542   64.379\n",
    "  235.861 -211.145  110.738]\n",
    "weight 2: [ 211.583  328.489   53.33  -220.76   702.032  129.999 -320.664  -65.465\n",
    "  180.864 -208.053   51.527]\n",
    "weight 3: [ 164.4    285.676   63.307 -210.435  676.681  139.513 -344.925 -107.006\n",
    "  178.651 -210.097   49.383]\n",
    "weight 4: [  65.809  173.363  110.006 -181.788  600.639  169.768 -428.017 -142.651\n",
    "  211.812 -215.466   95.723]\n",
    "weight 5: [  32.462  124.797   91.19  -205.156  548.725  145.624 -496.127  -64.634\n",
    "  135.804 -217.559   85.628]\n",
    "weight 6: [  86.098  210.342   51.785 -250.142  468.439   85.601 -577.18   -71.54\n",
    "   65.41  -213.74    89.187]\n",
    "weight 7: [ 2146.684  1538.89   -287.28   6000.346  2658.638  5182.37  -5649.848\n",
    "  3709.604  -649.873  -592.218   315.839]\n",
    "weight 8: [  215.923  2032.612  -307.14   4858.851  3811.383  4175.584 -5591.423\n",
    "  3293.974  -818.303  -414.247   -80.826]\n",
    "weight 9: [ 3988.966 -1350.19    -35.625  8746.506 -5069.721 -6418.718  3286.506\n",
    "   899.546   142.487 -4889.011   599.992]\n",
    "weight 10: [-1101.06   2078.328   -38.97   -350.694  -749.869  -919.739   396.954\n",
    "  -618.764     9.482  -175.263    94.298]\n",
    "weight 11: [-1586.385  1157.597    91.108  -300.593  1057.662    80.127  -528.462\n",
    "  -214.416   107.073  -301.226   -96.677]\n",
    "weight 12: [  4608.547 -10000.      1516.024 -10000.      4655.107   2352.406\n",
    "  -5134.776  -9319.877     76.394  10000.       -31.511]\n",
    "weight 13: [  4245.458 -10000.      1751.842  -9966.641   8579.265  10000.\n",
    " -10000.      -761.065    283.553  10000.        43.47 ]\n",
    "weight 14: [  4942.171 -10000.      1356.195  -2991.439   3451.617   2831.782\n",
    "  -4260.91    -580.741    -52.015  10000.        18.224]\n",
    "weight 15: [  5715.148 -10000.       714.685  -1389.082  -2116.034   1596.408\n",
    "   2401.327   -467.469   -191.809   9615.925     23.493]\n",
    "weight 16: [ -295.501 -1836.025  2548.581  1251.479 -3642.348   968.146  3826.496\n",
    "  1978.079  -756.226 -3901.254   -16.551]\n",
    "weight 17: [-7168.865  5922.395  4533.053  1673.605 -7314.708   153.401  7014.891\n",
    "  1334.677 -1960.264  -309.534   -32.893]\n",
    "weight 18: [ -141.302 -2320.344  2733.446  1289.478 -2105.02   1159.347  1938.395\n",
    "  2020.254  -769.129 -1219.562   -46.146]\n",
    "weight 19: [-3609.108  1796.174  3678.586  1251.668 -4763.479  -752.702  4819.984\n",
    "   557.456 -1161.388 -1652.734   -58.86 ]\n",
    "weight 20: [-2880.179  1125.017  3404.938   803.732 -3650.063 -1168.023  3507.463\n",
    "    61.23  -1085.577 -2951.012   -56.384]\n",
    "weight 21: [  605.646 -2037.946  1727.227   -83.636   376.131   895.587  -672.694\n",
    "   373.972  -274.614   -57.755   -39.912]\n",
    "weight 22: [ 3.654e+03 -4.780e+03 -8.253e+01 -1.000e+04  2.452e+03  3.783e+03\n",
    " -2.021e+03 -4.419e+03  7.535e+02 -2.171e+03 -8.416e+00]\n",
    "weight 23: [ -36.742  837.232  381.107  605.016  466.919 1232.526  596.345 1153.759\n",
    "  663.743 4223.769  -44.295]\n",
    "weight 24: [-240.81  1032.091  739.501 1493.419  489.845 1095.727 -620.81  1597.372\n",
    "  -84.785 1659.163  -27.47 ]\n",
    "weight 25: [ 8933.688 -7275.224 -3000.222  3933.563 -7933.528  2070.66   6966.425\n",
    "  4725.953 -1637.751  2722.938   184.697]\n",
    "weight 26: [  107.244  2600.82   -473.359  2102.009 -3944.789   395.092  3667.583\n",
    "  2017.047  -813.439  1828.218    61.49 ]\n",
    "weight 27: [  972.497  2627.503  -701.417  1581.712 -2145.905   324.818  1492.625\n",
    "  1159.267  -696.755 -2274.749    51.29 ]\n",
    "weight 28: [-6.814e+03  1.000e+04  1.264e+03 -2.300e-01 -1.233e+03 -2.597e+03\n",
    "  1.991e+03 -1.323e+03  5.710e+01  2.860e+03 -2.564e+01]\"\"\""
   ]
  },
  {
   "cell_type": "code",
   "execution_count": 26,
   "metadata": {},
   "outputs": [],
   "source": [
    "import re\n",
    "import ast\n",
    "\n",
    "def preprocess_text(text):\n",
    "    out = text.replace(\"\\n\", \" \")\n",
    "    out = re.sub(r'\\s+', ' ', out)\n",
    "    out = re.sub(r'\\s+', ' ', out)\n",
    "\n",
    "    return [\"[{}]\".format(l.split(\":\")[-1].strip(\"[] \").replace(\" \", \",\")) for l in out.split(\"weight\")][1:]\n",
    "\n",
    "out = preprocess_text(w_array_text)\n",
    "\n",
    "w_array = [np.array(ast.literal_eval(o)) for o in out]\n",
    "# out"
   ]
  },
  {
   "cell_type": "code",
   "execution_count": 46,
   "metadata": {},
   "outputs": [
    {
     "data": {
      "text/plain": [
       "array([ 146.888,  257.333,  120.706, -273.091,  597.232,   77.819,\n",
       "       -430.544,   66.271,  214.027, -211.351,  136.076])"
      ]
     },
     "execution_count": 46,
     "metadata": {},
     "output_type": "execute_result"
    }
   ],
   "source": [
    "w_init = \"\"\"weight : [[ 146.888  257.333  120.706 -273.091  597.232   77.819 -430.544   66.271\n",
    "  214.027 -211.351  136.076]]\"\"\"\n",
    "\n",
    "init_w = np.array(ast.literal_eval(preprocess_text(w_init)[0]))\n",
    "init_w"
   ]
  },
  {
   "cell_type": "code",
   "execution_count": 47,
   "metadata": {},
   "outputs": [
    {
     "data": {
      "text/plain": [
       "(array([ 269.934433  , -295.95213095,   58.44535839,  454.52816519,\n",
       "          78.24568241,  371.2287857 , -351.8874298 ,   74.98203886,\n",
       "        -131.15926816,  235.26933329,  -34.50815998]),\n",
       " array([ 416.822433  ,  -38.61913095,  179.15135839,  181.43716519,\n",
       "         675.47768241,  449.0477857 , -782.4314298 ,  141.25303886,\n",
       "          82.86773184,   23.91833329,  101.56784002]))"
      ]
     },
     "execution_count": 47,
     "metadata": {},
     "output_type": "execute_result"
    }
   ],
   "source": [
    "critic_init_fading_factor = 0.8\n",
    "\n",
    "total_sum = 0\n",
    "weight_list = []\n",
    "N = len(w_array)  \n",
    "for i, w_i in enumerate(w_array, start=0):\n",
    "    weight_list.append(critic_init_fading_factor ** i)\n",
    "    total_sum += weight_list[-1] * w_i\n",
    "    # print(f\"weight {i}:\", w_i)\n",
    "\n",
    "weighted_average = total_sum / np.sum(weight_list)\n",
    "Delta_w =  weighted_average - init_w\n",
    "\n",
    "Delta_w, weighted_average"
   ]
  },
  {
   "cell_type": "code",
   "execution_count": 37,
   "metadata": {},
   "outputs": [],
   "source": [
    "from utilities import (\n",
    "    uptria2vec,\n",
    "    to_row_vec,\n",
    "    to_scalar,\n",
    "    push_vec,\n",
    "    rep_mat\n",
    "    )\n",
    "\n",
    "def critic_model_quad_mix(observation, action, critic_weight_tensor):\n",
    "    feature_tensor = np.hstack(\n",
    "                [\n",
    "                    to_row_vec(observation) ** 2,\n",
    "                    np.kron(to_row_vec(observation), to_row_vec(action)),\n",
    "                    to_row_vec(action) ** 2,\n",
    "                ]\n",
    "            )\n",
    "    \n",
    "    result = critic_weight_tensor @ feature_tensor.T\n",
    "\n",
    "    return to_scalar(result) "
   ]
  },
  {
   "cell_type": "code",
   "execution_count": 38,
   "metadata": {},
   "outputs": [
    {
     "data": {
      "text/plain": [
       "array([ 109.32136479,  125.34241632,   75.77318406, -120.92856855,\n",
       "        356.75672684,   77.56061361, -282.61860998,   45.29364313,\n",
       "        114.14621554, -103.61676539,   76.78029926])"
      ]
     },
     "execution_count": 38,
     "metadata": {},
     "output_type": "execute_result"
    }
   ],
   "source": [
    "calf_penalty_coeff = 0.5\n",
    "next_init_w = init_w + calf_penalty_coeff * Delta_w\n",
    "next_init_w"
   ]
  },
  {
   "cell_type": "code",
   "execution_count": 44,
   "metadata": {},
   "outputs": [
    {
     "data": {
      "text/plain": [
       "389.564188557687"
      ]
     },
     "execution_count": 44,
     "metadata": {},
     "output_type": "execute_result"
    }
   ],
   "source": [
    "critic_model_quad_mix(np.array([[1, 1, np.pi]]),\n",
    "                      np.array([0.22, -2.84]),\n",
    "                      next_init_w) "
   ]
  },
  {
   "cell_type": "code",
   "execution_count": 45,
   "metadata": {},
   "outputs": [
    {
     "data": {
      "text/plain": [
       "array([-386.85 , -117.643, -599.681, -607.826, -421.861, -223.884,\n",
       "        352.707,  253.709,  243.525,  228.139,  645.155])"
      ]
     },
     "execution_count": 45,
     "metadata": {},
     "output_type": "execute_result"
    }
   ],
   "source": [
    "w_init = \"\"\"weight : [[-386.85  -117.643 -599.681 -607.826 -421.861 -223.884  352.707  253.709\n",
    "   243.525  228.139  645.155]]\"\"\"\n",
    "\n",
    "init_w = np.array(ast.literal_eval(preprocess_text(w_init)[0]))\n",
    "init_w"
   ]
  },
  {
   "cell_type": "code",
   "execution_count": 43,
   "metadata": {},
   "outputs": [
    {
     "data": {
      "text/plain": [
       "-3192.490945270644"
      ]
     },
     "execution_count": 43,
     "metadata": {},
     "output_type": "execute_result"
    }
   ],
   "source": [
    "critic_model_quad_mix(np.array([[1, 1, np.pi]]),\n",
    "                      np.array([0.22, -2.84]),\n",
    "                      init_w)"
   ]
  }
 ],
 "metadata": {
  "kernelspec": {
   "display_name": "venv-rc",
   "language": "python",
   "name": "python3"
  },
  "language_info": {
   "codemirror_mode": {
    "name": "ipython",
    "version": 3
   },
   "file_extension": ".py",
   "mimetype": "text/x-python",
   "name": "python",
   "nbconvert_exporter": "python",
   "pygments_lexer": "ipython3",
   "version": "3.11.9"
  }
 },
 "nbformat": 4,
 "nbformat_minor": 2
}
